{
 "cells": [
  {
   "cell_type": "markdown",
   "metadata": {},
   "source": [
    "# PicCompare - Duplicate Image Finder Plan"
   ]
  },
  {
   "cell_type": "markdown",
   "metadata": {},
   "source": [
    "*Note:* This application is specifically designed and planned for the **Kubuntu Linux distribution** (using KDE Plasma/Qt). The choice of PySide6 for the GUI aligns well with this target environment."
   ]
  },
  {
   "cell_type": "markdown",
   "metadata": {},
   "source": [
    "## 1. Proposed Project Structure\n",
    "\n",
    "```\n",
    "PicCompare/\n",
    "├── main.py             # Entry point, initializes the application\n",
    "├── core/\n",
    "│   ├── __init__.py\n",
    "│   ├── scanner.py        # Functions for finding image files\n",
    "│   ├── hasher.py         # Functions for calculating image hashes (using ImageHash & Pillow)\n",
    "│   ├── duplicate_finder.py # Logic to group images by hash and identify duplicates\n",
    "│   └── file_handler.py   # Functions for deleting files (using send2trash)\n",
    "├── ui/\n",
    "│   ├── __init__.py\n",
    "│   ├── main_window.py    # Main application window class (PySide6)\n",
    "│   ├── widgets/\n",
    "│   │   ├── __init__.py\n",
    "│   │   ├── directory_selector.py # Widget for selecting directories\n",
    "│   │   ├── progress_display.py   # Widget for showing progress\n",
    "│   │   ├── duplicate_list.py     # Widget to list duplicate sets\n",
    "│   │   └── image_compare.py      # Widget for side-by-side comparison and selection\n",
    "│   └── resources/          # Optional: Icons, etc.\n",
    "├── requirements.txt    # Lists project dependencies (Pillow, ImageHash, PySide6, send2trash)\n",
    "└── README.md           # Project description, setup, usage\n",
    "```"
   ]
  },
  {
   "cell_type": "markdown",
   "metadata": {},
   "source": [
    "## 2. Core Logic Details (`core/` modules)\n",
    "\n",
    "*   **`scanner.py`:**\n",
    "    *   `find_image_files(directory_paths: list[str]) -> list[str]`: Takes a list of directories, recursively scans them, and returns a list of paths to files with supported extensions (.jpg, .jpeg, .png, .gif). Uses `os.walk` or `pathlib.rglob`.\n",
    "*   **`hasher.py`:**\n",
    "    *   `calculate_perceptual_hash(image_path: str) -> str | None`: Takes an image path, opens it with `Pillow`, calculates its dHash using `ImageHash`, and returns the hash string. Handles potential errors during image opening/processing.\n",
    "*   **`duplicate_finder.py`:**\n",
    "    *   `group_by_hash(image_paths: list[str]) -> dict[str, list[str]]`: Takes the list of image paths, calculates the hash for each (using `hasher.calculate_perceptual_hash`), and returns a dictionary mapping hashes to lists of file paths.\n",
    "    *   `identify_duplicates(hash_groups: dict[str, list[str]]) -> list[list[str]]`: Takes the hash groups dictionary and returns a list where each inner list contains the file paths of images considered duplicates (i.e., groups with more than one path for the same hash).\n",
    "*   **`file_handler.py`:**\n",
    "    *   `move_to_trash(file_paths: list[str]) -> None`: Takes a list of file paths and moves them to the system's trash/recycle bin using the `send2trash` library. This is safer than permanent deletion initially."
   ]
  },
  {
   "cell_type": "markdown",
   "metadata": {},
   "source": [
    "## 3. UI Details (`ui/` modules using PySide6)\n",
    "\n",
    "*   **`main_window.py` (`MainWindow` class):**\n",
    "    *   Main application layout (e.g., `QVBoxLayout`, `QHBoxLayout`).\n",
    "    *   Integrates the custom widgets: `DirectorySelector`, `ProgressDisplay`, `DuplicateList`, `ImageCompare`.\n",
    "    *   Connects signals/slots:\n",
    "        *   \"Scan\" button triggers directory scanning, hashing, and duplicate finding (using `core` functions). Updates `ProgressDisplay` and `DuplicateList`.\n",
    "        *   Selecting a set in `DuplicateList` updates the `ImageCompare` widget.\n",
    "        *   \"Delete Selected\" button in `ImageCompare` triggers `file_handler.move_to_trash` after confirmation. Updates `DuplicateList` and `ImageCompare`.\n",
    "*   **`widgets/directory_selector.py`:**\n",
    "    *   Button to open `QFileDialog.getExistingDirectory` multiple times or a list view to manage selected paths.\n",
    "    *   Provides a signal `directories_selected(list[str])`.\n",
    "*   **`widgets/progress_display.py`:**\n",
    "    *   A `QProgressBar` and potentially a `QLabel` for status text.\n",
    "    *   Methods like `update_progress(value, max_value, status_text)`.\n",
    "*   **`widgets/duplicate_list.py`:**\n",
    "    *   A `QListWidget` or `QTreeView` to display the identified duplicate sets (e.g., showing the hash or a representative thumbnail and the number of files).\n",
    "    *   Provides a signal `set_selected(list[str])` emitting the file paths for the chosen set.\n",
    "*   **`widgets/image_compare.py`:**\n",
    "    *   Layout (e.g., `QHBoxLayout` or `QGridLayout`) to display multiple images.\n",
    "    *   Uses `QLabel` with `QPixmap` to show images (scaled appropriately).\n",
    "    *   Adds `QCheckBox` under/next to each image for selection (Keep/Delete). Logic to ensure at least one is kept? Or maybe just select for deletion. Let's default to \"select for deletion\".\n",
    "    *   Navigation buttons (\"Next Set\", \"Previous Set\") if displaying one set at a time.\n",
    "    *   \"Delete Selected Images in Set\" button.\n",
    "    *   Provides a signal `delete_requested(list[str])` with paths to delete.\n"
   ]
  },
  {
   "cell_type": "markdown",
   "metadata": {},
   "source": [
    "## 4. `main.py` Outline\n",
    "\n",
    "```python\n",
    "import sys\n",
    "from PySide6.QtWidgets import QApplication\n",
    "from ui.main_window import MainWindow\n",
    "\n",
    "if __name__ == \"__main__\":\n",
    "    app = QApplication(sys.argv)\n",
    "    window = MainWindow()\n",
    "    window.show()\n",
    "    sys.exit(app.exec())\n",
    "```"
   ]
  },
  {
   "cell_type": "markdown",
   "metadata": {},
   "source": [
    "## 5. Dependencies (`requirements.txt`)\n",
    "\n",
    "```\n",
    "Pillow>=9.0.0\n",
    "ImageHash>=4.2.0\n",
    "PySide6>=6.3.0\n",
    "send2trash>=1.8.0\n",
    "```"
   ]
  },
  {
   "cell_type": "markdown",
   "metadata": {},
   "source": [
    "## 6. Mermaid Diagram (Simplified UI Layout Concept)\n",
    "\n",
    "```mermaid\n",
    "graph TD\n",
    "    subgraph MainWindow\n",
    "        direction TB\n",
    "        A[Directory Selector Widget] --> B(Scan Button);\n",
    "        B --> C{Core Logic};\n",
    "        C --> D[Progress Display Widget];\n",
    "        C --> E[Duplicate List Widget];\n",
    "        E -- Select Set --> F[Image Compare Widget];\n",
    "        F -- Request Deletion --> G(Confirm Dialog);\n",
    "        G -- Confirmed --> H{Core Logic - Delete};\n",
    "        H --> E; # Update List\n",
    "        H --> F; # Update/Clear View\n",
    "    end\n",
    "\n",
    "    style C fill:#f9f,stroke:#333,stroke-width:2px\n",
    "    style H fill:#f9f,stroke:#333,stroke-width:2px\n",
    "```"
   ]
  }
 ],
 "metadata": {
  "kernelspec": {
   "display_name": "Python 3",
   "language": "python",
   "name": "python3"
  },
  "language_info": {
   "codemirror_mode": {
    "name": "ipython",
    "version": 3
   },
   "file_extension": ".py",
   "mimetype": "text/x-python",
   "name": "python",
   "nbconvert_exporter": "python",
   "pygments_lexer": "ipython3",
   "version": "3.10.12"
  }
 },
 "nbformat": 4,
 "nbformat_minor": 5
}